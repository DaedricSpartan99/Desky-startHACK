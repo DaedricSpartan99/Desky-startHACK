{
 "cells": [
  {
   "cell_type": "code",
   "execution_count": 6,
   "metadata": {},
   "outputs": [],
   "source": [
    "from selenium import webdriver\n",
    "from selenium.webdriver.chrome.options import Options\n",
    "from bs4 import BeautifulSoup\n",
    "import time\n",
    "import pandas as pd\n",
    "import requests"
   ]
  },
  {
   "cell_type": "code",
   "execution_count": 3,
   "metadata": {},
   "outputs": [],
   "source": [
    "# Configure Chrome WebDriver options\n",
    "chrome_options = Options()\n",
    "chrome_options.add_argument(\"--headless\")  # Run Chrome in headless mode, without opening a window\n",
    "\n",
    "# Path to Chrome WebDriver executable\n",
    "webdriver_path = '\"C:/Users/Emanuele/Downloads/chromedriver-win32/chromedriver-win32/chromedriver.exe\"'  # Replace this with the path to your chromedriver executable"
   ]
  },
  {
   "cell_type": "code",
   "execution_count": 33,
   "metadata": {},
   "outputs": [
    {
     "name": "stderr",
     "output_type": "stream",
     "text": [
      "<ipython-input-33-62dc0cab53c3>:2: DeprecationWarning: executable_path has been deprecated, please pass in a Service object\n",
      "  driver = webdriver.Chrome(executable_path=webdriver_path, options=chrome_options)\n"
     ]
    }
   ],
   "source": [
    "# Initialize Chrome WebDriver\n",
    "driver = webdriver.Chrome(executable_path=webdriver_path, options=chrome_options)\n",
    "\n",
    "# URL of the page to scrape\n",
    "url = 'https://www.coworkbooking.com/europe/italy/milan'\n",
    "\n",
    "# Load the page\n",
    "driver.get(url)\n",
    "\n",
    "# Wait for dynamic content to load (you might need to adjust the waiting time)\n",
    "driver.implicitly_wait(10)  # Adjust this value as needed\n",
    "\n",
    "# Extract HTML content after all dynamic content has loaded\n",
    "html_content = driver.page_source\n",
    "\n",
    "# Parse the HTML content\n",
    "soup = BeautifulSoup(html_content, 'html.parser')\n",
    "\n",
    "# Find all <a> elements containing coworking space links\n",
    "a_elements = soup.find_all('a', {'data-rel': 'external'})\n",
    "\n",
    "data = []\n",
    "\n",
    "# Extract href and the title from each <a> element\n",
    "for element in a_elements:\n",
    "    href = \"https://www.coworkbooking.com\" + element.get('href', 'N/A')  # Default to 'N/A' if href is not found\n",
    "    title = element.text.strip()  # Get the text part of the element and strip any whitespace\n",
    "    \n",
    "    # Find the corresponding <span> containing the description\n",
    "    span_element = element.find_next('span', class_='perex')\n",
    "    description = span_element.text.strip() if span_element else 'N/A'\n",
    "    \n",
    "    # Find the corresponding <span> containing the starting price\n",
    "    price_element = element.find_next('span', class_='price')\n",
    "    starting_price = price_element.find('span', class_='prefix').next_sibling.strip() if price_element else 'N/A'\n",
    "    \n",
    "    # Find the corresponding <img> containing the image link\n",
    "    img_element = element.find_next('img', class_='img')\n",
    "    image_url = img_element['src'].strip() if img_element else 'N/A'\n",
    "    \n",
    "    \n",
    "    data.append({\n",
    "        'title': title,\n",
    "        'href': href,\n",
    "        'description': description,\n",
    "        'starting_price': starting_price,\n",
    "        'image_link': image_link\n",
    "    })\n",
    "\n",
    "# Close the WebDriver\n",
    "driver.quit()\n",
    "\n",
    "# Create a DataFrame\n",
    "df = pd.DataFrame(data)\n"
   ]
  },
  {
   "cell_type": "code",
   "execution_count": 34,
   "metadata": {},
   "outputs": [],
   "source": [
    "df = df.drop_duplicates(subset=['href'], keep='first')\n",
    "df = df.drop_duplicates(subset=['description'], keep='last')\n",
    "df = df.iloc[:-1]\n",
    "\n",
    "# Save the cleaned DataFrame to a new CSV file\n",
    "df.to_csv('coworking_milan.csv', index=False)\n"
   ]
  },
  {
   "cell_type": "code",
   "execution_count": 36,
   "metadata": {},
   "outputs": [
    {
     "name": "stderr",
     "output_type": "stream",
     "text": [
      "<ipython-input-36-a5f81f78d5ee>:2: DeprecationWarning: executable_path has been deprecated, please pass in a Service object\n",
      "  driver = webdriver.Chrome(executable_path=webdriver_path, options=chrome_options)\n"
     ]
    }
   ],
   "source": [
    "# Initialize Chrome WebDriver\n",
    "driver = webdriver.Chrome(executable_path=webdriver_path, options=chrome_options)\n",
    "\n",
    "# URL of the page to scrape\n",
    "url = 'https://www.coworkbooking.com/europe/italy/rome'\n",
    "\n",
    "# Load the page\n",
    "driver.get(url)\n",
    "\n",
    "# Wait for dynamic content to load (you might need to adjust the waiting time)\n",
    "driver.implicitly_wait(10)  # Adjust this value as needed\n",
    "\n",
    "# Extract HTML content after all dynamic content has loaded\n",
    "html_content = driver.page_source\n",
    "\n",
    "# Parse the HTML content\n",
    "soup = BeautifulSoup(html_content, 'html.parser')\n",
    "\n",
    "# Find all <a> elements containing coworking space links\n",
    "a_elements = soup.find_all('a', {'data-rel': 'external'})\n",
    "\n",
    "data = []\n",
    "\n",
    "# Extract href and the title from each <a> element\n",
    "for element in a_elements:\n",
    "    href = \"https://www.coworkbooking.com\" + element.get('href', 'N/A')  # Default to 'N/A' if href is not found\n",
    "    title = element.text.strip()  # Get the text part of the element and strip any whitespace\n",
    "    \n",
    "    # Find the corresponding <span> containing the description\n",
    "    span_element = element.find_next('span', class_='perex')\n",
    "    description = span_element.text.strip() if span_element else 'N/A'\n",
    "    \n",
    "    # Find the corresponding <span> containing the starting price\n",
    "    price_element = element.find_next('span', class_='price')\n",
    "    starting_price = price_element.find('span', class_='prefix').next_sibling.strip() if price_element else 'N/A'\n",
    "    \n",
    "    # Find the corresponding <img> containing the image link\n",
    "    img_element = element.find_next('img', class_='img')\n",
    "    image_url = img_element['src'].strip() if img_element else 'N/A'\n",
    "    \n",
    "    \n",
    "    data.append({\n",
    "        'title': title,\n",
    "        'href': href,\n",
    "        'description': description,\n",
    "        'starting_price': starting_price,\n",
    "        'image_link': image_link\n",
    "    })\n",
    "\n",
    "# Close the WebDriver\n",
    "driver.quit()\n",
    "\n",
    "# Create a DataFrame\n",
    "df = pd.DataFrame(data)\n"
   ]
  },
  {
   "cell_type": "code",
   "execution_count": 37,
   "metadata": {},
   "outputs": [],
   "source": [
    "df = df.drop_duplicates(subset=['href'], keep='first')\n",
    "df = df.drop_duplicates(subset=['description'], keep='last')\n",
    "df = df.iloc[:-1]\n",
    "\n",
    "# Save the cleaned DataFrame to a new CSV file\n",
    "df.to_csv('coworking_rome.csv', index=False)"
   ]
  },
  {
   "cell_type": "code",
   "execution_count": null,
   "metadata": {},
   "outputs": [],
   "source": []
  },
  {
   "cell_type": "code",
   "execution_count": null,
   "metadata": {},
   "outputs": [],
   "source": []
  }
 ],
 "metadata": {
  "kernelspec": {
   "display_name": "base",
   "language": "python",
   "name": "python3"
  },
  "language_info": {
   "codemirror_mode": {
    "name": "ipython",
    "version": 3
   },
   "file_extension": ".py",
   "mimetype": "text/x-python",
   "name": "python",
   "nbconvert_exporter": "python",
   "pygments_lexer": "ipython3",
   "version": "3.8.5"
  }
 },
 "nbformat": 4,
 "nbformat_minor": 2
}
