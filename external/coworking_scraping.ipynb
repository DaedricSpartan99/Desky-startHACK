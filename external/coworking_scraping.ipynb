{
 "cells": [
  {
   "cell_type": "code",
   "execution_count": 2,
   "metadata": {},
   "outputs": [],
   "source": [
    "from selenium import webdriver\n",
    "from selenium.webdriver.chrome.options import Options\n",
    "from bs4 import BeautifulSoup\n",
    "import time\n",
    "import pandas as pd"
   ]
  },
  {
   "cell_type": "code",
   "execution_count": 4,
   "metadata": {},
   "outputs": [],
   "source": [
    "# Configure Chrome WebDriver options\n",
    "chrome_options = Options()\n",
    "chrome_options.add_argument(\"--headless\")  # Run Chrome in headless mode, without opening a window\n",
    "\n",
    "# Path to Chrome WebDriver executable\n",
    "webdriver_path = \"C:/Users/Emanuele/Downloads/chromedriver-win32/chromedriver-win32/chromedriver.exe\"  # Replace this with the path to your chromedriver executable"
   ]
  },
  {
   "cell_type": "code",
   "execution_count": 11,
   "metadata": {},
   "outputs": [
    {
     "name": "stderr",
     "output_type": "stream",
     "text": [
      "<ipython-input-11-36effaf1d50c>:2: DeprecationWarning: executable_path has been deprecated, please pass in a Service object\n",
      "  driver = webdriver.Chrome(executable_path=webdriver_path, options=chrome_options)\n"
     ]
    }
   ],
   "source": [
    "# Initialize Chrome WebDriver\n",
    "driver = webdriver.Chrome(executable_path=webdriver_path, options=chrome_options)\n",
    "\n",
    "# URL of the page to scrape\n",
    "url = 'https://borgo-office.it/it_it/alternative/'\n",
    "\n",
    "# Load the page\n",
    "driver.get(url)\n",
    "\n",
    "# Wait for dynamic content to load (you might need to adjust the waiting time)\n",
    "time.sleep(5)  # Adjust this value as needed\n",
    "\n",
    "# Extract HTML content after all dynamic content has loaded\n",
    "html_content = driver.page_source\n",
    "\n",
    "# Parse the HTML content\n",
    "soup = BeautifulSoup(html_content, 'html.parser')\n",
    "\n",
    "# Find all <a> elements containing city links\n",
    "a_elements = soup.find_all('a')\n",
    "\n",
    "data = []\n",
    "\n",
    "# Extract href and the text (city name) from each <a> element\n",
    "for element in a_elements:\n",
    "    href = element.get('href', 'N/A')  # Default to 'N/A' if href is not found\n",
    "    city_name = element.text.strip()  # Get the text part of the element and strip any whitespace\n",
    "    \n",
    "    data.append({\n",
    "        'city': city_name,\n",
    "        'href': href\n",
    "    })\n",
    "\n",
    "# Close the WebDriver\n",
    "driver.quit()\n",
    "\n",
    "# Create a DataFrame\n",
    "df = pd.DataFrame(data)\n"
   ]
  },
  {
   "cell_type": "code",
   "execution_count": 8,
   "metadata": {},
   "outputs": [],
   "source": [
    "# Remove the first 5 rows and the last 4 rows\n",
    "df = df.iloc[5:-4]\n",
    "\n",
    "# Save the cleaned DataFrame to a new CSV file\n",
    "df.to_csv('city_links.csv', index=False)"
   ]
  }
 ],
 "metadata": {
  "kernelspec": {
   "display_name": "base",
   "language": "python",
   "name": "python3"
  },
  "language_info": {
   "codemirror_mode": {
    "name": "ipython",
    "version": 3
   },
   "file_extension": ".py",
   "mimetype": "text/x-python",
   "name": "python",
   "nbconvert_exporter": "python",
   "pygments_lexer": "ipython3",
   "version": "3.8.5"
  }
 },
 "nbformat": 4,
 "nbformat_minor": 2
}
